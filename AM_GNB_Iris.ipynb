{
  "nbformat": 4,
  "nbformat_minor": 0,
  "metadata": {
    "colab": {
      "provenance": [],
      "authorship_tag": "ABX9TyOhDvGjeZSn/P19H3bM7iVy",
      "include_colab_link": true
    },
    "kernelspec": {
      "name": "python3",
      "display_name": "Python 3"
    },
    "language_info": {
      "name": "python"
    }
  },
  "cells": [
    {
      "cell_type": "markdown",
      "metadata": {
        "id": "view-in-github",
        "colab_type": "text"
      },
      "source": [
        "<a href=\"https://colab.research.google.com/github/mauromelo-ti-ifce/PPGCC/blob/main/AM_GNB_Iris.ipynb\" target=\"_parent\"><img src=\"https://colab.research.google.com/assets/colab-badge.svg\" alt=\"Open In Colab\"/></a>"
      ]
    },
    {
      "cell_type": "code",
      "execution_count": 47,
      "metadata": {
        "colab": {
          "base_uri": "https://localhost:8080/"
        },
        "id": "DvAy_BGEyDUX",
        "outputId": "f2a8ddb2-734f-4168-a7d9-757a5c849116"
      },
      "outputs": [
        {
          "output_type": "stream",
          "name": "stdout",
          "text": [
            "Overwriting gnb_IRIS.py\n"
          ]
        }
      ],
      "source": [
        "%%writefile gnb_IRIS.py\n",
        "# Algoritmo Naive Bayes\n",
        "# Implementação sobre a base de dados da IRIS\n",
        "\n",
        "# Importar as bibliotecas básicas\n",
        "import numpy as np\n",
        "import pandas as pd\n",
        "import seaborn as sns\n",
        "import matplotlib.pyplot as plt\n",
        "from collections import Counter\n",
        "from sklearn.datasets import load_iris\n",
        "from sklearn.model_selection import train_test_split\n",
        "\n",
        "# Carregar o conjunto de dados\n",
        "iris = load_iris()\n",
        "X = iris.data     # características\n",
        "y = iris.target   # rótulos\n",
        "\n",
        "# Dividir os dados em conjunto de treinamento e conjunto de teste\n",
        "from sklearn.model_selection import train_test_split\n",
        "X_train, X_test, y_train, y_test = train_test_split(X, y, test_size=0.2, random_state=0)\n",
        "\n",
        "\n",
        "class GaussianNB:\n",
        "    def fit(self, X_train, y_train): # Método de ajuste \"fit\" para treinar o modelo em 120 exemplos\n",
        "        self.classes = np.unique(y_train)\n",
        "        self.class_probs = {}\n",
        "        self.class_means = {}\n",
        "        self.class_variances = {}\n",
        "        for class_label in self.classes:\n",
        "            X_class = X_train[y_train == class_label]\n",
        "            self.class_probs[class_label] = len(X_class) / len(X_train)\n",
        "            self.class_means[class_label] = np.mean(X_class, axis=0)\n",
        "            self.class_variances[class_label] = np.var(X_class, axis=0)\n",
        "\n",
        "    def predict(self, X_test): # Método de previsão \"predict\" para fazer previsões de 30 novos exemplos\n",
        "        predictions = []\n",
        "        for x in X_test:\n",
        "            class_scores = {class_label: np.sum(np.log(1 / np.sqrt(2 * np.pi * self.class_variances[class_label])) - ((x - self.class_means[class_label]) ** 2) / (2 * self.class_variances[class_label])) + np.log(self.class_probs[class_label]) for class_label in self.classes}\n",
        "            predicted_class = max(class_scores, key=class_scores.get)\n",
        "            predictions.append(predicted_class)\n",
        "        return predictions\n",
        "\n",
        "# Uso do classificador\n",
        "gnb = GaussianNB()\n",
        "gnb.fit(X_train, y_train)\n",
        "y_pred = gnb.predict(X_test)\n",
        "\n",
        "# Avaliação do desempenho\n",
        "accuracy = np.mean(y_pred == y_test)\n",
        "accuracy = round(accuracy, 4)\n",
        "print(\"Acurácia do modelo:\", accuracy)\n",
        "\n",
        "# Função para calcular a acurácia\n",
        "def calculate_accuracy(y_true, y_pred):\n",
        "    return np.mean(y_pred == y_true)\n",
        "\n",
        "# Parâmetros\n",
        "n_iterations = 20\n",
        "accuracies = []\n",
        "\n",
        "# Realizar múltiplas realizações\n",
        "for _ in range(n_iterations):\n",
        "\n",
        "    # Dividir os dados em conjunto de treinamento e conjunto de teste\n",
        "    X_train, X_test, y_train, y_test = train_test_split(X, y, test_size=0.2, random_state=None)\n",
        "\n",
        "    # Treinar o modelo\n",
        "    gnb = GaussianNB()\n",
        "    gnb.fit(X_train, y_train)\n",
        "\n",
        "    # Fazer previsões\n",
        "    y_pred = gnb.predict(X_test)\n",
        "\n",
        "    # Calcular a acurácia e armazenar\n",
        "    accuracy = calculate_accuracy(y_test, y_pred)\n",
        "    accuracies.append(accuracy)\n",
        "\n",
        "# Calcular a média e o desvio padrão da acurácia\n",
        "mean_accuracy = np.mean(accuracies)\n",
        "std_accuracy = np.std(accuracies)\n",
        "\n",
        "# Arredondar os resultados para 4 casas decimais\n",
        "mean_accuracy = round(mean_accuracy, 4)\n",
        "std_accuracy = round(std_accuracy, 4)\n",
        "n_iterations = round(n_iterations, 4)\n",
        "\n",
        "print (\"No. de interações: \", n_iterations)\n",
        "print(\"Média da acurácia:\", mean_accuracy)\n",
        "print(\"Desvio padrão da acurácia:\", std_accuracy)\n",
        "\n"
      ]
    },
    {
      "cell_type": "code",
      "execution_count": 45,
      "metadata": {
        "colab": {
          "base_uri": "https://localhost:8080/"
        },
        "outputId": "d538d649-0708-44ef-e362-41bb1de7d291",
        "id": "K1ufzCvxixFq"
      },
      "outputs": [
        {
          "output_type": "stream",
          "name": "stdout",
          "text": [
            "Acurácia do modelo: 0.9667\n",
            "No. de interações:  20\n",
            "Média da acurácia: 0.9317\n",
            "Desvio padrão da acurácia: 0.0441\n"
          ]
        }
      ],
      "source": [
        "%%python gnb_IRIS.py\n"
      ]
    }
  ]
}