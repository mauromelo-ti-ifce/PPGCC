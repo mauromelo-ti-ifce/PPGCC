{
  "nbformat": 4,
  "nbformat_minor": 0,
  "metadata": {
    "colab": {
      "provenance": [],
      "authorship_tag": "ABX9TyNLbDmhVAVDFOHp5aJ0xZjm",
      "include_colab_link": true
    },
    "kernelspec": {
      "name": "python3",
      "display_name": "Python 3"
    },
    "language_info": {
      "name": "python"
    }
  },
  "cells": [
    {
      "cell_type": "markdown",
      "metadata": {
        "id": "view-in-github",
        "colab_type": "text"
      },
      "source": [
        "<a href=\"https://colab.research.google.com/github/mauromelo-ti-ifce/PPGCC/blob/main/AM_GNB_Iris.ipynb\" target=\"_parent\"><img src=\"https://colab.research.google.com/assets/colab-badge.svg\" alt=\"Open In Colab\"/></a>"
      ]
    },
    {
      "cell_type": "code",
      "source": [
        "%%writefile acura_nRealiza20_NB_iris.py\n",
        "# Realizar múltiplas realizações para GNB\n",
        "# Importar as bibliotecas básicas\n",
        "import numpy as np\n",
        "import pandas as pd\n",
        "import seaborn as sns\n",
        "import matplotlib.pyplot as plt\n",
        "from collections import Counter\n",
        "from sklearn.datasets import load_iris\n",
        "from sklearn.model_selection import train_test_split\n",
        "\n",
        "# Carregar o conjunto de dados\n",
        "iris = load_iris()\n",
        "X = iris.data     # características\n",
        "y = iris.target   # rótulos\n",
        "\n",
        "# Dividir os dados em conjunto de treinamento e conjunto de teste\n",
        "from sklearn.model_selection import train_test_split\n",
        "X_train, X_test, y_train, y_test = train_test_split(X, y, test_size=0.2, random_state=0)\n",
        "\n",
        "# Classificador Naive Bayes Gaussiano\n",
        "from collections import Counter\n",
        "import numpy as np\n",
        "\n",
        "class GaussianNB:\n",
        "    def fit(self, X_train, y_train): # Treinar o modelo\n",
        "        self.classes = np.unique(y_train)\n",
        "        self.class_probs = {}\n",
        "        self.class_means = {}\n",
        "        self.class_variances = {}\n",
        "        for class_label in self.classes:\n",
        "            X_class = X_train[y_train == class_label]\n",
        "            self.class_probs[class_label] = len(X_class) / len(X_train)\n",
        "            self.class_means[class_label] = np.mean(X_class, axis=0)\n",
        "            self.class_variances[class_label] = np.var(X_class, axis=0)\n",
        "\n",
        "    def predict(self, X_test): # Fazer previsões\n",
        "        predictions = []\n",
        "        for x in X_test:\n",
        "            class_scores = {class_label: np.sum(np.log(1 / np.sqrt(2 * np.pi * self.class_variances[class_label])) - ((x - self.class_means[class_label]) ** 2) / (2 * self.class_variances[class_label])) + np.log(self.class_probs[class_label]) for class_label in self.classes}\n",
        "            predicted_class = max(class_scores, key=class_scores.get)\n",
        "            predictions.append(predicted_class)\n",
        "        return predictions\n",
        "\n",
        "# Função para calcular a acurácia\n",
        "def calculate_accuracy(y_true, y_pred):\n",
        "    return np.mean(y_pred == y_true)\n",
        "\n",
        "# Parâmetros\n",
        "n_iterations = 20\n",
        "accuracies = []\n",
        "\n",
        "# Realizar múltiplas realizações\n",
        "for _ in range(n_iterations):\n",
        "    # Dividir os dados em conjunto de treinamento e conjunto de teste\n",
        "    X_train, X_test, y_train, y_test = train_test_split(X, y, test_size=0.2, random_state=None)\n",
        "\n",
        "    # Treinar o modelo\n",
        "    gnb = GaussianNB()\n",
        "    gnb.fit(X_train, y_train)\n",
        "\n",
        "    # Fazer previsões\n",
        "    y_pred = gnb.predict(X_test)\n",
        "\n",
        "    # Calcular a acurácia e armazenar\n",
        "    accuracy = calculate_accuracy(y_test, y_pred)\n",
        "    accuracies.append(accuracy)\n",
        "\n",
        "# Calcular a média e o desvio padrão da acurácia\n",
        "mean_accuracy = np.mean(accuracies)\n",
        "std_accuracy = np.std(accuracies)\n",
        "\n",
        "print(\"Média da acurácia:\", mean_accuracy)\n",
        "print(\"Desvio padrão da acurácia:\", std_accuracy)\n"
      ],
      "metadata": {
        "colab": {
          "base_uri": "https://localhost:8080/"
        },
        "id": "uiybY3u8wlv2",
        "outputId": "578c5813-b02f-4215-9333-7d29725f3911"
      },
      "execution_count": 31,
      "outputs": [
        {
          "output_type": "stream",
          "name": "stdout",
          "text": [
            "Overwriting acura_nRealiza20_NB_iris.py\n"
          ]
        }
      ]
    },
    {
      "cell_type": "code",
      "source": [
        "%%python acura_nRealiza_NB_iris.py"
      ],
      "metadata": {
        "colab": {
          "base_uri": "https://localhost:8080/"
        },
        "id": "4UdzWGMfcuQF",
        "outputId": "0d7ee0fc-c74c-472e-a070-5dcf0677f76f"
      },
      "execution_count": 32,
      "outputs": [
        {
          "output_type": "stream",
          "name": "stdout",
          "text": [
            "Acurácia: 0.9667\n"
          ]
        }
      ]
    },
    {
      "cell_type": "markdown",
      "source": [
        "# Dividir os dados em conjunto de treinamento e conjunto de teste\n",
        "from sklearn.model_selection import train_test_split\n",
        "X_train, X_test, y_train, y_test = train_test_split(X, y, test_size=0.2, random_state=0)\n",
        "\n",
        "# Calcula as probabilidades a priori de cada classe na base de dados Iris\n",
        "def calc_prior_probs_iris():\n",
        "    \"\"\"\n",
        "    Calcula as probabilidades a priori de cada classe na base de dados Iris.\n",
        "\n",
        "    Returns:\n",
        "    dict: Um dicionário onde as chaves são os rótulos das classes e os valores são as probabilidades a priori correspondentes.\n",
        "    \"\"\"\n",
        "    # Carregar o conjunto de dados Iris\n",
        "    iris_data = np.genfromtxt('Iris_data.csv', delimiter=',', skip_header=1)\n",
        "\n",
        "    # Extrair os rótulos das classes\n",
        "    class_labels = iris_data[:, -1].astype(int)\n",
        "\n",
        "    # Calcular as probabilidades a priori\n",
        "    total_samples = len(class_labels)\n",
        "    class_counts = Counter(class_labels)\n",
        "    prior_probs = {class_label: count / total_samples for class_label, count in class_counts.items()}\n",
        "    \n",
        "    return prior_probs\n",
        "\n",
        "    # Calcular as médias e desvios padrões de cada classe\n",
        "    class_means = {}\n",
        "    class_stddevs = {}\n",
        "    for class_label in class_counts:\n",
        "        # Selecionar as amostras correspondentes à classe atual\n",
        "        class_samples = iris_data[class_labels == class_label, :-1]  # Exclui a última coluna com os rótulos\n",
        "        \n",
        "        # Calcular a média e o desvio padrão de cada característica (coluna)\n",
        "        class_means[class_label] = np.mean(class_samples, axis=0)\n",
        "        class_stddevs[class_label] = np.std(class_samples, axis=0)\n",
        "    \n",
        "    return prior_probs, class_means, class_stddevs\n",
        "\n",
        "# Calcular as probabilidades a priori, médias e desvios padrões na base de dados Iris\n",
        "prior_probs_iris, class_means_iris, class_stddevs_iris = calc_prior_probs_iris()\n",
        "print(\"Probabilidades a priori:\")\n",
        "\n",
        "# Função para calcular a acurácia\n",
        "def calculate_accuracy(y_true, y_pred):\n",
        "    return np.mean(y_pred == y_true)\n",
        "\n",
        "# Parâmetros\n",
        "n_iterations = 20\n",
        "accuracies_gnb = []\n",
        "\n",
        "# Realizar múltiplas realizações para GNB\n",
        "for _ in range(n_iterations):\n",
        "    # Dividir os dados em conjunto de treinamento e conjunto de teste\n",
        "    X_train, X_test, y_train, y_test = train_test_split(X, y, test_size=0.2, random_state=None)\n",
        "    \n",
        "    # Treinar o modelo GNB\n",
        "    gnb = GaussianNB()\n",
        "    gnb.fit(X_train, y_train)\n",
        "    \n",
        "    # Fazer previsões\n",
        "    y_pred = gnb.predict(X_test)\n",
        "    \n",
        "    # Calcular a acurácia e armazenar\n",
        "    accuracy = calculate_accuracy(y_test, y_pred)\n",
        "    accuracies_gnb.append(accuracy)\n",
        "\n",
        "# Visualizar as acurácias de cada realização\n",
        "print(\"Acurácia de cada realização:\")\n",
        "for i, accuracy in enumerate(accuracies_gnb, 1):\n",
        "    print(\"Realização {}: {:.4f}\".format(i, accuracy))\n",
        "\n",
        "# Calcular a média e o desvio padrão das acurácias\n",
        "mean_accuracy = np.mean(accuracies_gnb)\n",
        "std_accuracy = np.std(accuracies_gnb)\n",
        "\n",
        "print(\"\\nMédia da acurácia:\", round(mean_accuracy, 4))\n",
        "print(\"Desvio padrão da acurácia:\", round(std_accuracy, 4))\n"
      ],
      "metadata": {
        "id": "C6m40cpTcnD6"
      }
    },
    {
      "cell_type": "code",
      "source": [
        "%%python acura_nRealiza_NB_iris.py"
      ],
      "metadata": {
        "colab": {
          "base_uri": "https://localhost:8080/",
          "height": 426
        },
        "id": "9no4KWPK4rZx",
        "outputId": "8176a9be-2164-47cf-a71b-267ada7827bd"
      },
      "execution_count": 5,
      "outputs": [
        {
          "output_type": "stream",
          "name": "stderr",
          "text": [
            "/content/acura_nRealiza_NB_iris.py:44: RuntimeWarning: invalid value encountered in cast\n",
            "  class_labels = iris_data[:, -1].astype(int)\n",
            "Traceback (most recent call last):\n",
            "  File \"/content/acura_nRealiza_NB_iris.py\", line 67, in <module>\n",
            "    prior_probs_iris, class_means_iris, class_stddevs_iris = calc_prior_probs_iris()\n",
            "ValueError: not enough values to unpack (expected 3, got 1)\n"
          ]
        },
        {
          "output_type": "error",
          "ename": "CalledProcessError",
          "evalue": "Command 'b' \\n'' returned non-zero exit status 1.",
          "traceback": [
            "\u001b[0;31m---------------------------------------------------------------------------\u001b[0m",
            "\u001b[0;31mCalledProcessError\u001b[0m                        Traceback (most recent call last)",
            "\u001b[0;32m<ipython-input-5-5d938e251827>\u001b[0m in \u001b[0;36m<cell line: 1>\u001b[0;34m()\u001b[0m\n\u001b[0;32m----> 1\u001b[0;31m \u001b[0mget_ipython\u001b[0m\u001b[0;34m(\u001b[0m\u001b[0;34m)\u001b[0m\u001b[0;34m.\u001b[0m\u001b[0mrun_cell_magic\u001b[0m\u001b[0;34m(\u001b[0m\u001b[0;34m'python'\u001b[0m\u001b[0;34m,\u001b[0m \u001b[0;34m'acura_nRealiza_NB_iris.py'\u001b[0m\u001b[0;34m,\u001b[0m \u001b[0;34m''\u001b[0m\u001b[0;34m)\u001b[0m\u001b[0;34m\u001b[0m\u001b[0;34m\u001b[0m\u001b[0m\n\u001b[0m",
            "\u001b[0;32m/usr/local/lib/python3.10/dist-packages/google/colab/_shell.py\u001b[0m in \u001b[0;36mrun_cell_magic\u001b[0;34m(self, magic_name, line, cell)\u001b[0m\n\u001b[1;32m    332\u001b[0m     \u001b[0;32mif\u001b[0m \u001b[0mline\u001b[0m \u001b[0;32mand\u001b[0m \u001b[0;32mnot\u001b[0m \u001b[0mcell\u001b[0m\u001b[0;34m:\u001b[0m\u001b[0;34m\u001b[0m\u001b[0;34m\u001b[0m\u001b[0m\n\u001b[1;32m    333\u001b[0m       \u001b[0mcell\u001b[0m \u001b[0;34m=\u001b[0m \u001b[0;34m' '\u001b[0m\u001b[0;34m\u001b[0m\u001b[0;34m\u001b[0m\u001b[0m\n\u001b[0;32m--> 334\u001b[0;31m     \u001b[0;32mreturn\u001b[0m \u001b[0msuper\u001b[0m\u001b[0;34m(\u001b[0m\u001b[0;34m)\u001b[0m\u001b[0;34m.\u001b[0m\u001b[0mrun_cell_magic\u001b[0m\u001b[0;34m(\u001b[0m\u001b[0mmagic_name\u001b[0m\u001b[0;34m,\u001b[0m \u001b[0mline\u001b[0m\u001b[0;34m,\u001b[0m \u001b[0mcell\u001b[0m\u001b[0;34m)\u001b[0m\u001b[0;34m\u001b[0m\u001b[0;34m\u001b[0m\u001b[0m\n\u001b[0m\u001b[1;32m    335\u001b[0m \u001b[0;34m\u001b[0m\u001b[0m\n\u001b[1;32m    336\u001b[0m \u001b[0;34m\u001b[0m\u001b[0m\n",
            "\u001b[0;32m/usr/local/lib/python3.10/dist-packages/IPython/core/interactiveshell.py\u001b[0m in \u001b[0;36mrun_cell_magic\u001b[0;34m(self, magic_name, line, cell)\u001b[0m\n\u001b[1;32m   2471\u001b[0m             \u001b[0;32mwith\u001b[0m \u001b[0mself\u001b[0m\u001b[0;34m.\u001b[0m\u001b[0mbuiltin_trap\u001b[0m\u001b[0;34m:\u001b[0m\u001b[0;34m\u001b[0m\u001b[0;34m\u001b[0m\u001b[0m\n\u001b[1;32m   2472\u001b[0m                 \u001b[0margs\u001b[0m \u001b[0;34m=\u001b[0m \u001b[0;34m(\u001b[0m\u001b[0mmagic_arg_s\u001b[0m\u001b[0;34m,\u001b[0m \u001b[0mcell\u001b[0m\u001b[0;34m)\u001b[0m\u001b[0;34m\u001b[0m\u001b[0;34m\u001b[0m\u001b[0m\n\u001b[0;32m-> 2473\u001b[0;31m                 \u001b[0mresult\u001b[0m \u001b[0;34m=\u001b[0m \u001b[0mfn\u001b[0m\u001b[0;34m(\u001b[0m\u001b[0;34m*\u001b[0m\u001b[0margs\u001b[0m\u001b[0;34m,\u001b[0m \u001b[0;34m**\u001b[0m\u001b[0mkwargs\u001b[0m\u001b[0;34m)\u001b[0m\u001b[0;34m\u001b[0m\u001b[0;34m\u001b[0m\u001b[0m\n\u001b[0m\u001b[1;32m   2474\u001b[0m             \u001b[0;32mreturn\u001b[0m \u001b[0mresult\u001b[0m\u001b[0;34m\u001b[0m\u001b[0;34m\u001b[0m\u001b[0m\n\u001b[1;32m   2475\u001b[0m \u001b[0;34m\u001b[0m\u001b[0m\n",
            "\u001b[0;32m/usr/local/lib/python3.10/dist-packages/IPython/core/magics/script.py\u001b[0m in \u001b[0;36mnamed_script_magic\u001b[0;34m(line, cell)\u001b[0m\n\u001b[1;32m    140\u001b[0m             \u001b[0;32melse\u001b[0m\u001b[0;34m:\u001b[0m\u001b[0;34m\u001b[0m\u001b[0;34m\u001b[0m\u001b[0m\n\u001b[1;32m    141\u001b[0m                 \u001b[0mline\u001b[0m \u001b[0;34m=\u001b[0m \u001b[0mscript\u001b[0m\u001b[0;34m\u001b[0m\u001b[0;34m\u001b[0m\u001b[0m\n\u001b[0;32m--> 142\u001b[0;31m             \u001b[0;32mreturn\u001b[0m \u001b[0mself\u001b[0m\u001b[0;34m.\u001b[0m\u001b[0mshebang\u001b[0m\u001b[0;34m(\u001b[0m\u001b[0mline\u001b[0m\u001b[0;34m,\u001b[0m \u001b[0mcell\u001b[0m\u001b[0;34m)\u001b[0m\u001b[0;34m\u001b[0m\u001b[0;34m\u001b[0m\u001b[0m\n\u001b[0m\u001b[1;32m    143\u001b[0m \u001b[0;34m\u001b[0m\u001b[0m\n\u001b[1;32m    144\u001b[0m         \u001b[0;31m# write a basic docstring:\u001b[0m\u001b[0;34m\u001b[0m\u001b[0;34m\u001b[0m\u001b[0m\n",
            "\u001b[0;32m<decorator-gen-103>\u001b[0m in \u001b[0;36mshebang\u001b[0;34m(self, line, cell)\u001b[0m\n",
            "\u001b[0;32m/usr/local/lib/python3.10/dist-packages/IPython/core/magic.py\u001b[0m in \u001b[0;36m<lambda>\u001b[0;34m(f, *a, **k)\u001b[0m\n\u001b[1;32m    185\u001b[0m     \u001b[0;31m# but it's overkill for just that one bit of state.\u001b[0m\u001b[0;34m\u001b[0m\u001b[0;34m\u001b[0m\u001b[0m\n\u001b[1;32m    186\u001b[0m     \u001b[0;32mdef\u001b[0m \u001b[0mmagic_deco\u001b[0m\u001b[0;34m(\u001b[0m\u001b[0marg\u001b[0m\u001b[0;34m)\u001b[0m\u001b[0;34m:\u001b[0m\u001b[0;34m\u001b[0m\u001b[0;34m\u001b[0m\u001b[0m\n\u001b[0;32m--> 187\u001b[0;31m         \u001b[0mcall\u001b[0m \u001b[0;34m=\u001b[0m \u001b[0;32mlambda\u001b[0m \u001b[0mf\u001b[0m\u001b[0;34m,\u001b[0m \u001b[0;34m*\u001b[0m\u001b[0ma\u001b[0m\u001b[0;34m,\u001b[0m \u001b[0;34m**\u001b[0m\u001b[0mk\u001b[0m\u001b[0;34m:\u001b[0m \u001b[0mf\u001b[0m\u001b[0;34m(\u001b[0m\u001b[0;34m*\u001b[0m\u001b[0ma\u001b[0m\u001b[0;34m,\u001b[0m \u001b[0;34m**\u001b[0m\u001b[0mk\u001b[0m\u001b[0;34m)\u001b[0m\u001b[0;34m\u001b[0m\u001b[0;34m\u001b[0m\u001b[0m\n\u001b[0m\u001b[1;32m    188\u001b[0m \u001b[0;34m\u001b[0m\u001b[0m\n\u001b[1;32m    189\u001b[0m         \u001b[0;32mif\u001b[0m \u001b[0mcallable\u001b[0m\u001b[0;34m(\u001b[0m\u001b[0marg\u001b[0m\u001b[0;34m)\u001b[0m\u001b[0;34m:\u001b[0m\u001b[0;34m\u001b[0m\u001b[0;34m\u001b[0m\u001b[0m\n",
            "\u001b[0;32m/usr/local/lib/python3.10/dist-packages/IPython/core/magics/script.py\u001b[0m in \u001b[0;36mshebang\u001b[0;34m(self, line, cell)\u001b[0m\n\u001b[1;32m    243\u001b[0m             \u001b[0msys\u001b[0m\u001b[0;34m.\u001b[0m\u001b[0mstderr\u001b[0m\u001b[0;34m.\u001b[0m\u001b[0mflush\u001b[0m\u001b[0;34m(\u001b[0m\u001b[0;34m)\u001b[0m\u001b[0;34m\u001b[0m\u001b[0;34m\u001b[0m\u001b[0m\n\u001b[1;32m    244\u001b[0m         \u001b[0;32mif\u001b[0m \u001b[0margs\u001b[0m\u001b[0;34m.\u001b[0m\u001b[0mraise_error\u001b[0m \u001b[0;32mand\u001b[0m \u001b[0mp\u001b[0m\u001b[0;34m.\u001b[0m\u001b[0mreturncode\u001b[0m\u001b[0;34m!=\u001b[0m\u001b[0;36m0\u001b[0m\u001b[0;34m:\u001b[0m\u001b[0;34m\u001b[0m\u001b[0;34m\u001b[0m\u001b[0m\n\u001b[0;32m--> 245\u001b[0;31m             \u001b[0;32mraise\u001b[0m \u001b[0mCalledProcessError\u001b[0m\u001b[0;34m(\u001b[0m\u001b[0mp\u001b[0m\u001b[0;34m.\u001b[0m\u001b[0mreturncode\u001b[0m\u001b[0;34m,\u001b[0m \u001b[0mcell\u001b[0m\u001b[0;34m,\u001b[0m \u001b[0moutput\u001b[0m\u001b[0;34m=\u001b[0m\u001b[0mout\u001b[0m\u001b[0;34m,\u001b[0m \u001b[0mstderr\u001b[0m\u001b[0;34m=\u001b[0m\u001b[0merr\u001b[0m\u001b[0;34m)\u001b[0m\u001b[0;34m\u001b[0m\u001b[0;34m\u001b[0m\u001b[0m\n\u001b[0m\u001b[1;32m    246\u001b[0m \u001b[0;34m\u001b[0m\u001b[0m\n\u001b[1;32m    247\u001b[0m     \u001b[0;32mdef\u001b[0m \u001b[0m_run_script\u001b[0m\u001b[0;34m(\u001b[0m\u001b[0mself\u001b[0m\u001b[0;34m,\u001b[0m \u001b[0mp\u001b[0m\u001b[0;34m,\u001b[0m \u001b[0mcell\u001b[0m\u001b[0;34m,\u001b[0m \u001b[0mto_close\u001b[0m\u001b[0;34m)\u001b[0m\u001b[0;34m:\u001b[0m\u001b[0;34m\u001b[0m\u001b[0;34m\u001b[0m\u001b[0m\n",
            "\u001b[0;31mCalledProcessError\u001b[0m: Command 'b' \\n'' returned non-zero exit status 1."
          ]
        }
      ]
    },
    {
      "cell_type": "markdown",
      "source": [],
      "metadata": {
        "id": "FW1wu_vHcaPI"
      }
    },
    {
      "cell_type": "markdown",
      "source": [],
      "metadata": {
        "id": "Pw5zh74JcaQ6"
      }
    }
  ]
}