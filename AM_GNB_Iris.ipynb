{
  "nbformat": 4,
  "nbformat_minor": 0,
  "metadata": {
    "colab": {
      "provenance": [],
      "authorship_tag": "ABX9TyPHh+I0ObPAeN4WzD98i47G",
      "include_colab_link": true
    },
    "kernelspec": {
      "name": "python3",
      "display_name": "Python 3"
    },
    "language_info": {
      "name": "python"
    }
  },
  "cells": [
    {
      "cell_type": "markdown",
      "metadata": {
        "id": "view-in-github",
        "colab_type": "text"
      },
      "source": [
        "<a href=\"https://colab.research.google.com/github/mauromelo-ti-ifce/PPGCC/blob/main/AM_GNB_Iris.ipynb\" target=\"_parent\"><img src=\"https://colab.research.google.com/assets/colab-badge.svg\" alt=\"Open In Colab\"/></a>"
      ]
    },
    {
      "cell_type": "code",
      "execution_count": 2,
      "metadata": {
        "colab": {
          "base_uri": "https://localhost:8080/"
        },
        "id": "DvAy_BGEyDUX",
        "outputId": "14c6509f-7680-48dc-d54e-b9af534e3688"
      },
      "outputs": [
        {
          "output_type": "stream",
          "name": "stdout",
          "text": [
            "Overwriting aplic_gnb_IRIS.py\n"
          ]
        }
      ],
      "source": [
        "%%writefile aplic_gnb_IRIS.py\n",
        "# Algoritmo Naive Bayes\n",
        "# Implementação sobre a base de dados da IRIS\n",
        "\n",
        "# Importar as bibliotecas básicas\n",
        "import numpy as np\n",
        "import pandas as pd\n",
        "import seaborn as sns\n",
        "import matplotlib.pyplot as plt\n",
        "\n",
        "# Carregar o conjunto de dados\n",
        "iris_dataset = pd.read_csv(iris_dataset.csv)\n"
      ]
    }
  ]
}